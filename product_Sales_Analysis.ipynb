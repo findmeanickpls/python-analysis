{
 "cells": [
  {
   "cell_type": "code",
   "execution_count": 43,
   "id": "e3cb842c-e815-4e07-850b-cccb515af09d",
   "metadata": {},
   "outputs": [
    {
     "name": "stdout",
     "output_type": "stream",
     "text": [
      "   Transaction_ID Product_Name  Quantity_Sold  Unit_Price Date_of_Sale Region  \\\n",
      "0               1    Product A             10        12.5   2025-01-01  North   \n",
      "1               2    Product B              5        20.0   2025-01-01  South   \n",
      "2               3    Product C              8        15.0   2025-01-02   East   \n",
      "3               4    Product A              4        12.5   2025-01-02   West   \n",
      "4               5    Product B              3        20.0   2025-01-03  North   \n",
      "\n",
      "   Customer_Age Customer_Gender Payment_Method  \n",
      "0            25          Female    Credit Card  \n",
      "1            32            Male           Cash  \n",
      "2            28          Female     Mobile Pay  \n",
      "3            45            Male    Credit Card  \n",
      "4            35          Female           Cash  \n"
     ]
    }
   ],
   "source": [
    "import pandas as pd\n",
    "import matplotlib.pyplot as plt\n",
    "\n",
    "# creating dataset (20 rows)\n",
    "data = {\n",
    "    \"Transaction_ID\": range(1, 21),\n",
    "    \"Product_Name\": [\"Product A\", \"Product B\", \"Product C\", \"Product A\", \"Product B\", \"Product C\", \"Product A\", \"Product B\", \"Product C\", \"Product A\", \"Product B\", \"Product C\", \"Product A\", \"Product B\", \"Product C\", \"Product A\", \"Product B\", \"Product C\", \"Product A\", \"Product B\"],\n",
    "    \"Quantity_Sold\": [10, 5, 8, 4, 3, 6, 12, 7, 2, 15, 6, 10, 5, 9, 4, 6, 8, 3, 7, 11],\n",
    "    \"Unit_Price\": [12.5, 20.0, 15.0, 12.5, 20.0, 15.0, 12.5, 20.0, 15.0, 12.5, 20.0, 15.0, 12.5, 20.0, 15.0, 12.5, 20.0, 15.0, 12.5, 20.0],\n",
    "    \"Date_of_Sale\": [\"2025-01-01\", \"2025-01-01\", \"2025-01-02\", \"2025-01-02\", \"2025-01-03\", \"2025-01-03\", \"2025-01-04\", \"2025-01-04\", \"2025-01-05\", \"2025-01-05\", \"2025-01-06\", \"2025-01-06\", \"2025-01-07\", \"2025-01-07\", \"2025-01-08\", \"2025-01-08\", \"2025-01-09\", \"2025-01-09\", \"2025-01-10\", \"2025-01-10\"],\n",
    "    \"Region\": [\"North\", \"South\", \"East\", \"West\", \"North\", \"South\", \"East\", \"West\", \"North\", \"South\", \"North\", \"South\", \"East\", \"West\", \"North\", \"South\", \"East\", \"West\", \"North\", \"South\"],\n",
    "    \"Customer_Age\": [25, 32, 28, 45, 35, 29, 40, 38, 23, 31, 50, 33, 29, 37, 24, 30, 42, 35, 29, 41],\n",
    "    \"Customer_Gender\": [\"Female\", \"Male\", \"Female\", \"Male\", \"Female\", \"Male\", \"Female\", \"Male\", \"Female\", \"Male\", \"Female\", \"Male\", \"Female\", \"Male\", \"Female\", \"Male\", \"Female\", \"Male\", \"Female\", \"Male\"],\n",
    "    \"Payment_Method\": [\"Credit Card\", \"Cash\", \"Mobile Pay\", \"Credit Card\", \"Cash\", \"Mobile Pay\", \"Credit Card\", \"Cash\", \"Mobile Pay\", \"Credit Card\", \"Cash\", \"Mobile Pay\", \"Credit Card\", \"Cash\", \"Mobile Pay\", \"Credit Card\", \"Cash\", \"Mobile Pay\", \"Credit Card\", \"Cash\"]\n",
    "}\n",
    "\n",
    "# Create DataFrame\n",
    "df = pd.DataFrame(data)\n",
    "\n",
    "# Save to CSV\n",
    "df.to_csv(\"Sales_Dataset.csv\", index=False)\n",
    "\n",
    "# Display first few rows\n",
    "print(df.head())"
   ]
  },
  {
   "cell_type": "code",
   "execution_count": 2,
   "id": "e41d8fdd-02a2-4b5c-b457-c2d5fcc95fb8",
   "metadata": {
    "scrolled": true
   },
   "outputs": [
    {
     "data": {
      "text/html": [
       "<div>\n",
       "<style scoped>\n",
       "    .dataframe tbody tr th:only-of-type {\n",
       "        vertical-align: middle;\n",
       "    }\n",
       "\n",
       "    .dataframe tbody tr th {\n",
       "        vertical-align: top;\n",
       "    }\n",
       "\n",
       "    .dataframe thead th {\n",
       "        text-align: right;\n",
       "    }\n",
       "</style>\n",
       "<table border=\"1\" class=\"dataframe\">\n",
       "  <thead>\n",
       "    <tr style=\"text-align: right;\">\n",
       "      <th></th>\n",
       "      <th>Transaction_ID</th>\n",
       "      <th>Product_Name</th>\n",
       "      <th>Quantity_Sold</th>\n",
       "      <th>Unit_Price</th>\n",
       "      <th>Date_of_Sale</th>\n",
       "      <th>Region</th>\n",
       "      <th>Customer_Age</th>\n",
       "      <th>Customer_Gender</th>\n",
       "      <th>Payment_Method</th>\n",
       "    </tr>\n",
       "  </thead>\n",
       "  <tbody>\n",
       "    <tr>\n",
       "      <th>0</th>\n",
       "      <td>1</td>\n",
       "      <td>Product A</td>\n",
       "      <td>10</td>\n",
       "      <td>12.5</td>\n",
       "      <td>2025-01-01</td>\n",
       "      <td>North</td>\n",
       "      <td>25</td>\n",
       "      <td>Female</td>\n",
       "      <td>Credit Card</td>\n",
       "    </tr>\n",
       "    <tr>\n",
       "      <th>1</th>\n",
       "      <td>2</td>\n",
       "      <td>Product B</td>\n",
       "      <td>5</td>\n",
       "      <td>20.0</td>\n",
       "      <td>2025-01-01</td>\n",
       "      <td>South</td>\n",
       "      <td>32</td>\n",
       "      <td>Male</td>\n",
       "      <td>Cash</td>\n",
       "    </tr>\n",
       "    <tr>\n",
       "      <th>2</th>\n",
       "      <td>3</td>\n",
       "      <td>Product C</td>\n",
       "      <td>8</td>\n",
       "      <td>15.0</td>\n",
       "      <td>2025-01-02</td>\n",
       "      <td>East</td>\n",
       "      <td>28</td>\n",
       "      <td>Female</td>\n",
       "      <td>Mobile Pay</td>\n",
       "    </tr>\n",
       "    <tr>\n",
       "      <th>3</th>\n",
       "      <td>4</td>\n",
       "      <td>Product A</td>\n",
       "      <td>4</td>\n",
       "      <td>12.5</td>\n",
       "      <td>2025-01-02</td>\n",
       "      <td>West</td>\n",
       "      <td>45</td>\n",
       "      <td>Male</td>\n",
       "      <td>Credit Card</td>\n",
       "    </tr>\n",
       "    <tr>\n",
       "      <th>4</th>\n",
       "      <td>5</td>\n",
       "      <td>Product B</td>\n",
       "      <td>3</td>\n",
       "      <td>20.0</td>\n",
       "      <td>2025-01-03</td>\n",
       "      <td>North</td>\n",
       "      <td>35</td>\n",
       "      <td>Female</td>\n",
       "      <td>Cash</td>\n",
       "    </tr>\n",
       "    <tr>\n",
       "      <th>5</th>\n",
       "      <td>6</td>\n",
       "      <td>Product C</td>\n",
       "      <td>6</td>\n",
       "      <td>15.0</td>\n",
       "      <td>2025-01-03</td>\n",
       "      <td>South</td>\n",
       "      <td>29</td>\n",
       "      <td>Male</td>\n",
       "      <td>Mobile Pay</td>\n",
       "    </tr>\n",
       "    <tr>\n",
       "      <th>6</th>\n",
       "      <td>7</td>\n",
       "      <td>Product A</td>\n",
       "      <td>12</td>\n",
       "      <td>12.5</td>\n",
       "      <td>2025-01-04</td>\n",
       "      <td>East</td>\n",
       "      <td>40</td>\n",
       "      <td>Female</td>\n",
       "      <td>Credit Card</td>\n",
       "    </tr>\n",
       "    <tr>\n",
       "      <th>7</th>\n",
       "      <td>8</td>\n",
       "      <td>Product B</td>\n",
       "      <td>7</td>\n",
       "      <td>20.0</td>\n",
       "      <td>2025-01-04</td>\n",
       "      <td>West</td>\n",
       "      <td>38</td>\n",
       "      <td>Male</td>\n",
       "      <td>Cash</td>\n",
       "    </tr>\n",
       "    <tr>\n",
       "      <th>8</th>\n",
       "      <td>9</td>\n",
       "      <td>Product C</td>\n",
       "      <td>2</td>\n",
       "      <td>15.0</td>\n",
       "      <td>2025-01-05</td>\n",
       "      <td>North</td>\n",
       "      <td>23</td>\n",
       "      <td>Female</td>\n",
       "      <td>Mobile Pay</td>\n",
       "    </tr>\n",
       "    <tr>\n",
       "      <th>9</th>\n",
       "      <td>10</td>\n",
       "      <td>Product A</td>\n",
       "      <td>15</td>\n",
       "      <td>12.5</td>\n",
       "      <td>2025-01-05</td>\n",
       "      <td>South</td>\n",
       "      <td>31</td>\n",
       "      <td>Male</td>\n",
       "      <td>Credit Card</td>\n",
       "    </tr>\n",
       "    <tr>\n",
       "      <th>10</th>\n",
       "      <td>11</td>\n",
       "      <td>Product B</td>\n",
       "      <td>6</td>\n",
       "      <td>20.0</td>\n",
       "      <td>2025-01-06</td>\n",
       "      <td>North</td>\n",
       "      <td>50</td>\n",
       "      <td>Female</td>\n",
       "      <td>Cash</td>\n",
       "    </tr>\n",
       "    <tr>\n",
       "      <th>11</th>\n",
       "      <td>12</td>\n",
       "      <td>Product C</td>\n",
       "      <td>10</td>\n",
       "      <td>15.0</td>\n",
       "      <td>2025-01-06</td>\n",
       "      <td>South</td>\n",
       "      <td>33</td>\n",
       "      <td>Male</td>\n",
       "      <td>Mobile Pay</td>\n",
       "    </tr>\n",
       "    <tr>\n",
       "      <th>12</th>\n",
       "      <td>13</td>\n",
       "      <td>Product A</td>\n",
       "      <td>5</td>\n",
       "      <td>12.5</td>\n",
       "      <td>2025-01-07</td>\n",
       "      <td>East</td>\n",
       "      <td>29</td>\n",
       "      <td>Female</td>\n",
       "      <td>Credit Card</td>\n",
       "    </tr>\n",
       "    <tr>\n",
       "      <th>13</th>\n",
       "      <td>14</td>\n",
       "      <td>Product B</td>\n",
       "      <td>9</td>\n",
       "      <td>20.0</td>\n",
       "      <td>2025-01-07</td>\n",
       "      <td>West</td>\n",
       "      <td>37</td>\n",
       "      <td>Male</td>\n",
       "      <td>Cash</td>\n",
       "    </tr>\n",
       "    <tr>\n",
       "      <th>14</th>\n",
       "      <td>15</td>\n",
       "      <td>Product C</td>\n",
       "      <td>4</td>\n",
       "      <td>15.0</td>\n",
       "      <td>2025-01-08</td>\n",
       "      <td>North</td>\n",
       "      <td>24</td>\n",
       "      <td>Female</td>\n",
       "      <td>Mobile Pay</td>\n",
       "    </tr>\n",
       "    <tr>\n",
       "      <th>15</th>\n",
       "      <td>16</td>\n",
       "      <td>Product A</td>\n",
       "      <td>6</td>\n",
       "      <td>12.5</td>\n",
       "      <td>2025-01-08</td>\n",
       "      <td>South</td>\n",
       "      <td>30</td>\n",
       "      <td>Male</td>\n",
       "      <td>Credit Card</td>\n",
       "    </tr>\n",
       "    <tr>\n",
       "      <th>16</th>\n",
       "      <td>17</td>\n",
       "      <td>Product B</td>\n",
       "      <td>8</td>\n",
       "      <td>20.0</td>\n",
       "      <td>2025-01-09</td>\n",
       "      <td>East</td>\n",
       "      <td>42</td>\n",
       "      <td>Female</td>\n",
       "      <td>Cash</td>\n",
       "    </tr>\n",
       "    <tr>\n",
       "      <th>17</th>\n",
       "      <td>18</td>\n",
       "      <td>Product C</td>\n",
       "      <td>3</td>\n",
       "      <td>15.0</td>\n",
       "      <td>2025-01-09</td>\n",
       "      <td>West</td>\n",
       "      <td>35</td>\n",
       "      <td>Male</td>\n",
       "      <td>Mobile Pay</td>\n",
       "    </tr>\n",
       "    <tr>\n",
       "      <th>18</th>\n",
       "      <td>19</td>\n",
       "      <td>Product A</td>\n",
       "      <td>7</td>\n",
       "      <td>12.5</td>\n",
       "      <td>2025-01-10</td>\n",
       "      <td>North</td>\n",
       "      <td>29</td>\n",
       "      <td>Female</td>\n",
       "      <td>Credit Card</td>\n",
       "    </tr>\n",
       "    <tr>\n",
       "      <th>19</th>\n",
       "      <td>20</td>\n",
       "      <td>Product B</td>\n",
       "      <td>11</td>\n",
       "      <td>20.0</td>\n",
       "      <td>2025-01-10</td>\n",
       "      <td>South</td>\n",
       "      <td>41</td>\n",
       "      <td>Male</td>\n",
       "      <td>Cash</td>\n",
       "    </tr>\n",
       "  </tbody>\n",
       "</table>\n",
       "</div>"
      ],
      "text/plain": [
       "    Transaction_ID Product_Name  Quantity_Sold  Unit_Price Date_of_Sale  \\\n",
       "0                1    Product A             10        12.5   2025-01-01   \n",
       "1                2    Product B              5        20.0   2025-01-01   \n",
       "2                3    Product C              8        15.0   2025-01-02   \n",
       "3                4    Product A              4        12.5   2025-01-02   \n",
       "4                5    Product B              3        20.0   2025-01-03   \n",
       "5                6    Product C              6        15.0   2025-01-03   \n",
       "6                7    Product A             12        12.5   2025-01-04   \n",
       "7                8    Product B              7        20.0   2025-01-04   \n",
       "8                9    Product C              2        15.0   2025-01-05   \n",
       "9               10    Product A             15        12.5   2025-01-05   \n",
       "10              11    Product B              6        20.0   2025-01-06   \n",
       "11              12    Product C             10        15.0   2025-01-06   \n",
       "12              13    Product A              5        12.5   2025-01-07   \n",
       "13              14    Product B              9        20.0   2025-01-07   \n",
       "14              15    Product C              4        15.0   2025-01-08   \n",
       "15              16    Product A              6        12.5   2025-01-08   \n",
       "16              17    Product B              8        20.0   2025-01-09   \n",
       "17              18    Product C              3        15.0   2025-01-09   \n",
       "18              19    Product A              7        12.5   2025-01-10   \n",
       "19              20    Product B             11        20.0   2025-01-10   \n",
       "\n",
       "   Region  Customer_Age Customer_Gender Payment_Method  \n",
       "0   North            25          Female    Credit Card  \n",
       "1   South            32            Male           Cash  \n",
       "2    East            28          Female     Mobile Pay  \n",
       "3    West            45            Male    Credit Card  \n",
       "4   North            35          Female           Cash  \n",
       "5   South            29            Male     Mobile Pay  \n",
       "6    East            40          Female    Credit Card  \n",
       "7    West            38            Male           Cash  \n",
       "8   North            23          Female     Mobile Pay  \n",
       "9   South            31            Male    Credit Card  \n",
       "10  North            50          Female           Cash  \n",
       "11  South            33            Male     Mobile Pay  \n",
       "12   East            29          Female    Credit Card  \n",
       "13   West            37            Male           Cash  \n",
       "14  North            24          Female     Mobile Pay  \n",
       "15  South            30            Male    Credit Card  \n",
       "16   East            42          Female           Cash  \n",
       "17   West            35            Male     Mobile Pay  \n",
       "18  North            29          Female    Credit Card  \n",
       "19  South            41            Male           Cash  "
      ]
     },
     "execution_count": 2,
     "metadata": {},
     "output_type": "execute_result"
    }
   ],
   "source": [
    "sales_dataset=pd.read_csv(\"Sales_Dataset.csv\")\n",
    "sales_dataset"
   ]
  },
  {
   "cell_type": "code",
   "execution_count": 9,
   "id": "e3dde9e1-b33e-4092-aeb3-1df46319b70c",
   "metadata": {},
   "outputs": [
    {
     "data": {
      "text/plain": [
       "Product_Name\n",
       "Product A    737.5\n",
       "Product B    980.0\n",
       "Product C    495.0\n",
       "Name: Total_Sales, dtype: float64"
      ]
     },
     "execution_count": 9,
     "metadata": {},
     "output_type": "execute_result"
    }
   ],
   "source": [
    "#Total Sales:\n",
    "sales_dataset['Total_Sales']=sales_dataset['Quantity_Sold'] * sales_dataset['Unit_Price']\n",
    "Total_sales_product=sales_dataset.groupby('Product_Name')['Total_Sales'].sum()\n",
    "Total_sales_product\n",
    "\n"
   ]
  },
  {
   "cell_type": "code",
   "execution_count": 10,
   "id": "e3b02da6-6f4e-4d7a-adba-b17dd3b80153",
   "metadata": {},
   "outputs": [
    {
     "data": {
      "text/plain": [
       "Region\n",
       "East     492.5\n",
       "North    482.5\n",
       "South    822.5\n",
       "West     415.0\n",
       "Name: Total_Sales, dtype: float64"
      ]
     },
     "execution_count": 10,
     "metadata": {},
     "output_type": "execute_result"
    }
   ],
   "source": [
    "#Sales by Region:\n",
    "#Group data by Region and calculate total sales per region.\n",
    "sales_by_region=sales_dataset.groupby('Region')['Total_Sales'].sum()\n",
    "sales_by_region"
   ]
  },
  {
   "cell_type": "code",
   "execution_count": 21,
   "id": "5973a1e7-aeb6-4a38-804e-a9a2c30719b8",
   "metadata": {},
   "outputs": [
    {
     "name": "stdout",
     "output_type": "stream",
     "text": [
      "The total sales for customer's age and gender is: \n",
      "Customer_Age  Customer_Gender\n",
      "23            Female              30.0\n",
      "24            Female              60.0\n",
      "25            Female             125.0\n",
      "28            Female             120.0\n",
      "29            Female             150.0\n",
      "              Male                90.0\n",
      "30            Male                75.0\n",
      "31            Male               187.5\n",
      "32            Male               100.0\n",
      "33            Male               150.0\n",
      "35            Female              60.0\n",
      "              Male                45.0\n",
      "37            Male               180.0\n",
      "38            Male               140.0\n",
      "40            Female             150.0\n",
      "41            Male               220.0\n",
      "42            Female             160.0\n",
      "45            Male                50.0\n",
      "50            Female             120.0\n",
      "Name: Total_Sales, dtype: float64\n"
     ]
    }
   ],
   "source": [
    "# Customer Demographics Analysis:\n",
    "# \t•\tAnalyze total sales by Customer_Age and Customer_Gender.\n",
    "Customer_Demographics=sales_dataset.groupby(['Customer_Age','Customer_Gender'])['Total_Sales'].sum()\n",
    "print(f\"The total sales for customer's age and gender is: \\n{Customer_Demographics}\")"
   ]
  },
  {
   "cell_type": "code",
   "execution_count": 26,
   "id": "47bfe9dc-ca3a-4820-854d-1944b9513862",
   "metadata": {},
   "outputs": [
    {
     "name": "stdout",
     "output_type": "stream",
     "text": [
      "The distribution of payment methods and their corresponding sales are: \n",
      "Payment_Method\n",
      "Cash           980.0\n",
      "Credit Card    737.5\n",
      "Mobile Pay     495.0\n",
      "Name: Total_Sales, dtype: float64\n"
     ]
    }
   ],
   "source": [
    "# Payment Method Analysis:\n",
    "# \t•\tCalculate the distribution of payment methods and their corresponding sales.\n",
    "distribution_of_payment_methods=sales_dataset.groupby('Payment_Method')['Total_Sales'].sum()\n",
    "print(f\"The distribution of payment methods and their corresponding sales are: \\n{distribution_of_payment_methods}\")"
   ]
  },
  {
   "cell_type": "code",
   "execution_count": 34,
   "id": "bd65aee5-4ce5-4df5-b464-22311ea456ad",
   "metadata": {},
   "outputs": [
    {
     "name": "stdout",
     "output_type": "stream",
     "text": [
      "Sales Trend over time is: \n",
      "Date_of_Sale\n",
      "2025-01-01    225.0\n",
      "2025-01-02    170.0\n",
      "2025-01-03    150.0\n",
      "2025-01-04    290.0\n",
      "2025-01-05    217.5\n",
      "2025-01-06    270.0\n",
      "2025-01-07    242.5\n",
      "2025-01-08    135.0\n",
      "2025-01-09    205.0\n",
      "2025-01-10    307.5\n",
      "Name: Total_Sales, dtype: float64\n"
     ]
    }
   ],
   "source": [
    "# Sales Trend Over Time:\n",
    "# \t•\tGroup by Date_of_Sale to identify sales trends.\n",
    "sales_dataset['Date_of_Sale']=pd.to_datetime(sales_dataset['Date_of_Sale'])\n",
    "Sales_Trend_OverTime=sales_dataset.groupby('Date_of_Sale')['Total_Sales'].sum()\n",
    "print(f\"Sales Trend over time is: \\n{Sales_Trend_OverTime}\")"
   ]
  },
  {
   "cell_type": "code",
   "execution_count": 41,
   "id": "16e9bfaf-377f-4f79-98b8-5810dd521f54",
   "metadata": {},
   "outputs": [
    {
     "name": "stdout",
     "output_type": "stream",
     "text": [
      "The most popular product by quantity sold is: \n",
      "Product A having a total quanity sold of 59\n"
     ]
    }
   ],
   "source": [
    "#most popular product by quantity sold\n",
    "product_by_quantity_sold=sales_dataset.groupby('Product_Name')['Quantity_Sold'].sum()\n",
    "print(f\"The most popular product by quantity sold is: \\n{product_by_quantity_sold.idxmax()} having a total quanity sold of {product_by_quantity_sold.max()}\")"
   ]
  },
  {
   "cell_type": "markdown",
   "id": "08895e12-c166-4a94-aa21-9ab1f1e97f99",
   "metadata": {},
   "source": [
    "# insightful visualization\n"
   ]
  },
  {
   "cell_type": "code",
   "execution_count": 48,
   "id": "053b1487-89de-415a-bd30-fe207557c7c8",
   "metadata": {},
   "outputs": [
    {
     "data": {
      "image/png": "[encoded data removed]",
      "text/plain": [
       "<Figure size 640x480 with 1 Axes>"
      ]
     },
     "metadata": {},
     "output_type": "display_data"
    }
   ],
   "source": [
    "Sales_Trend_OverTime.plot(kind='line',title='sales trend over time')\n",
    "plt.xlabel(\"Date_of_Sale\")\n",
    "plt.ylabel(\"Total_Sales\")\n",
    "plt.show()"
   ]
  },
  {
   "cell_type": "code",
   "execution_count": 50,
   "id": "6a9ae26c-733e-4885-8844-eb3afd59fad6",
   "metadata": {},
   "outputs": [
    {
     "data": {
      "image/png": "[encoded data removed]",
      "text/plain": [
       "<Figure size 640x480 with 1 Axes>"
      ]
     },
     "metadata": {},
     "output_type": "display_data"
    }
   ],
   "source": [
    "product_by_quantity_sold.plot(kind='bar', title='product by quantity sold')\n",
    "plt.xlabel('Products')\n",
    "plt.ylabel('Quantity_Sold')\n",
    "plt.show()"
   ]
  },
  {
   "cell_type": "code",
   "execution_count": null,
   "id": "54610ec8-8f95-4c0f-8ecf-19533fbd5e5f",
   "metadata": {},
   "outputs": [],
   "source": []
  }
 ],
 "metadata": {
  "kernelspec": {
   "display_name": "Python 3 (ipykernel)",
   "language": "python",
   "name": "python3"
  },
  "language_info": {
   "codemirror_mode": {
    "name": "ipython",
    "version": 3
   },
   "file_extension": ".py",
   "mimetype": "text/x-python",
   "name": "python",
   "nbconvert_exporter": "python",
   "pygments_lexer": "ipython3",
   "version": "3.11.5"
  }
 },
 "nbformat": 4,
 "nbformat_minor": 5
}
