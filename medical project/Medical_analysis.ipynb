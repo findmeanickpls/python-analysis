{
 "cells": [
  {
   "cell_type": "code",
   "execution_count": 1,
   "id": "dbdfeb20-fa78-466d-b197-b7467f838a29",
   "metadata": {},
   "outputs": [],
   "source": [
    "import pandas as pd\n",
    "import matplotlib.pyplot as plt"
   ]
  },
  {
   "cell_type": "markdown",
   "id": "1ab29f3b-645e-408c-a600-129914d89cee",
   "metadata": {},
   "source": [
    "# Load the dataset"
   ]
  },
  {
   "cell_type": "code",
   "execution_count": 2,
   "id": "a7383646-67df-4a88-a8ca-0f2354fc346a",
   "metadata": {},
   "outputs": [
    {
     "data": {
      "text/html": [
       "<div>\n",
       "<style scoped>\n",
       "    .dataframe tbody tr th:only-of-type {\n",
       "        vertical-align: middle;\n",
       "    }\n",
       "\n",
       "    .dataframe tbody tr th {\n",
       "        vertical-align: top;\n",
       "    }\n",
       "\n",
       "    .dataframe thead th {\n",
       "        text-align: right;\n",
       "    }\n",
       "</style>\n",
       "<table border=\"1\" class=\"dataframe\">\n",
       "  <thead>\n",
       "    <tr style=\"text-align: right;\">\n",
       "      <th></th>\n",
       "      <th>PatientID</th>\n",
       "      <th>Age</th>\n",
       "      <th>Gender</th>\n",
       "      <th>Weight (kg)</th>\n",
       "      <th>Height (cm)</th>\n",
       "      <th>Systolic_BP</th>\n",
       "      <th>Diastolic_BP</th>\n",
       "      <th>Cholesterol</th>\n",
       "      <th>Diagnosis</th>\n",
       "    </tr>\n",
       "  </thead>\n",
       "  <tbody>\n",
       "    <tr>\n",
       "      <th>0</th>\n",
       "      <td>1</td>\n",
       "      <td>45</td>\n",
       "      <td>M</td>\n",
       "      <td>85</td>\n",
       "      <td>175</td>\n",
       "      <td>140</td>\n",
       "      <td>90</td>\n",
       "      <td>High</td>\n",
       "      <td>Hypertension</td>\n",
       "    </tr>\n",
       "    <tr>\n",
       "      <th>1</th>\n",
       "      <td>2</td>\n",
       "      <td>37</td>\n",
       "      <td>F</td>\n",
       "      <td>68</td>\n",
       "      <td>160</td>\n",
       "      <td>120</td>\n",
       "      <td>80</td>\n",
       "      <td>Normal</td>\n",
       "      <td>Healthy</td>\n",
       "    </tr>\n",
       "    <tr>\n",
       "      <th>2</th>\n",
       "      <td>3</td>\n",
       "      <td>52</td>\n",
       "      <td>M</td>\n",
       "      <td>95</td>\n",
       "      <td>178</td>\n",
       "      <td>150</td>\n",
       "      <td>95</td>\n",
       "      <td>High</td>\n",
       "      <td>Hypertension</td>\n",
       "    </tr>\n",
       "    <tr>\n",
       "      <th>3</th>\n",
       "      <td>4</td>\n",
       "      <td>29</td>\n",
       "      <td>F</td>\n",
       "      <td>54</td>\n",
       "      <td>165</td>\n",
       "      <td>110</td>\n",
       "      <td>75</td>\n",
       "      <td>Normal</td>\n",
       "      <td>Healthy</td>\n",
       "    </tr>\n",
       "    <tr>\n",
       "      <th>4</th>\n",
       "      <td>5</td>\n",
       "      <td>60</td>\n",
       "      <td>M</td>\n",
       "      <td>102</td>\n",
       "      <td>170</td>\n",
       "      <td>160</td>\n",
       "      <td>100</td>\n",
       "      <td>High</td>\n",
       "      <td>Heart Disease</td>\n",
       "    </tr>\n",
       "  </tbody>\n",
       "</table>\n",
       "</div>"
      ],
      "text/plain": [
       "   PatientID  Age Gender  Weight (kg)  Height (cm)  Systolic_BP  Diastolic_BP  \\\n",
       "0          1   45      M           85          175          140            90   \n",
       "1          2   37      F           68          160          120            80   \n",
       "2          3   52      M           95          178          150            95   \n",
       "3          4   29      F           54          165          110            75   \n",
       "4          5   60      M          102          170          160           100   \n",
       "\n",
       "  Cholesterol      Diagnosis  \n",
       "0        High   Hypertension  \n",
       "1      Normal        Healthy  \n",
       "2        High   Hypertension  \n",
       "3      Normal        Healthy  \n",
       "4        High  Heart Disease  "
      ]
     },
     "metadata": {},
     "output_type": "display_data"
    }
   ],
   "source": [
    "#Load the dataset using pandas and display the first 5 rows.\n",
    "main_data=pd.read_csv(\"medical_data.csv\")\n",
    "display(main_data.head())"
   ]
  },
  {
   "cell_type": "code",
   "execution_count": 3,
   "id": "6772419a-0e9b-423a-99af-6bf462967975",
   "metadata": {},
   "outputs": [
    {
     "name": "stdout",
     "output_type": "stream",
     "text": [
      "The average age of the patient is: 45.0\n",
      " The average weight of the patient is: 77.8 \n"
     ]
    }
   ],
   "source": [
    "#Find the average age and weight of the patients.\n",
    "avg_age=main_data['Age'].mean()\n",
    "avg_weight=main_data['Weight (kg)'].mean()\n",
    "print(f'The average age of the patient is: {avg_age}\\n The average weight of the patient is: {avg_weight} ')"
   ]
  },
  {
   "cell_type": "code",
   "execution_count": 4,
   "id": "e5d765ff-7671-4fa0-9030-834fc9aeb5a9",
   "metadata": {},
   "outputs": [
    {
     "data": {
      "text/html": [
       "<div>\n",
       "<style scoped>\n",
       "    .dataframe tbody tr th:only-of-type {\n",
       "        vertical-align: middle;\n",
       "    }\n",
       "\n",
       "    .dataframe tbody tr th {\n",
       "        vertical-align: top;\n",
       "    }\n",
       "\n",
       "    .dataframe thead th {\n",
       "        text-align: right;\n",
       "    }\n",
       "</style>\n",
       "<table border=\"1\" class=\"dataframe\">\n",
       "  <thead>\n",
       "    <tr style=\"text-align: right;\">\n",
       "      <th></th>\n",
       "      <th>PatientID</th>\n",
       "      <th>Age</th>\n",
       "      <th>Gender</th>\n",
       "      <th>Weight (kg)</th>\n",
       "      <th>Height (cm)</th>\n",
       "      <th>Systolic_BP</th>\n",
       "      <th>Diastolic_BP</th>\n",
       "      <th>Cholesterol</th>\n",
       "      <th>Diagnosis</th>\n",
       "    </tr>\n",
       "  </thead>\n",
       "  <tbody>\n",
       "    <tr>\n",
       "      <th>0</th>\n",
       "      <td>1</td>\n",
       "      <td>45</td>\n",
       "      <td>M</td>\n",
       "      <td>85</td>\n",
       "      <td>175</td>\n",
       "      <td>140</td>\n",
       "      <td>90</td>\n",
       "      <td>High</td>\n",
       "      <td>Hypertension</td>\n",
       "    </tr>\n",
       "    <tr>\n",
       "      <th>2</th>\n",
       "      <td>3</td>\n",
       "      <td>52</td>\n",
       "      <td>M</td>\n",
       "      <td>95</td>\n",
       "      <td>178</td>\n",
       "      <td>150</td>\n",
       "      <td>95</td>\n",
       "      <td>High</td>\n",
       "      <td>Hypertension</td>\n",
       "    </tr>\n",
       "    <tr>\n",
       "      <th>7</th>\n",
       "      <td>8</td>\n",
       "      <td>46</td>\n",
       "      <td>F</td>\n",
       "      <td>62</td>\n",
       "      <td>165</td>\n",
       "      <td>135</td>\n",
       "      <td>88</td>\n",
       "      <td>Normal</td>\n",
       "      <td>Hypertension</td>\n",
       "    </tr>\n",
       "  </tbody>\n",
       "</table>\n",
       "</div>"
      ],
      "text/plain": [
       "   PatientID  Age Gender  Weight (kg)  Height (cm)  Systolic_BP  Diastolic_BP  \\\n",
       "0          1   45      M           85          175          140            90   \n",
       "2          3   52      M           95          178          150            95   \n",
       "7          8   46      F           62          165          135            88   \n",
       "\n",
       "  Cholesterol     Diagnosis  \n",
       "0        High  Hypertension  \n",
       "2        High  Hypertension  \n",
       "7      Normal  Hypertension  "
      ]
     },
     "metadata": {},
     "output_type": "display_data"
    }
   ],
   "source": [
    "# Get the subset of patients with hypertension (Diagnosis: “Hypertension”).\n",
    "hypertension=main_data[main_data['Diagnosis']=='Hypertension']\n",
    "display(hypertension)"
   ]
  },
  {
   "cell_type": "markdown",
   "id": "b02cc1ce-b431-4105-9792-e7a64a03222c",
   "metadata": {},
   "source": [
    "# Group by diagnosis\n"
   ]
  },
  {
   "cell_type": "code",
   "execution_count": 5,
   "id": "59026092-f8c1-4617-a299-87b584ff681e",
   "metadata": {},
   "outputs": [
    {
     "data": {
      "text/plain": [
       "Diagnosis\n",
       "Healthy                4\n",
       "Hypertension           3\n",
       "Heart Disease          2\n",
       "At Risk of Diabetes    1\n",
       "Name: count, dtype: int64"
      ]
     },
     "metadata": {},
     "output_type": "display_data"
    }
   ],
   "source": [
    "#Find the number of patients in each diagnosis category.\n",
    "no_patient=main_data[\"Diagnosis\"].value_counts()\n",
    "display(no_patient)"
   ]
  },
  {
   "cell_type": "markdown",
   "id": "2fdd312a-4e6b-4bca-89d4-680e33f5c5e6",
   "metadata": {},
   "source": [
    "# Visualize the distribution of ages\n",
    "\t\n"
   ]
  },
  {
   "cell_type": "code",
   "execution_count": 6,
   "id": "6667d0bb-f62f-49a6-bdb4-f00ba6024606",
   "metadata": {},
   "outputs": [
    {
     "data": {
      "image/png": "[encoded data removed]",
      "text/plain": [
       "<Figure size 640x480 with 1 Axes>"
      ]
     },
     "metadata": {},
     "output_type": "display_data"
    }
   ],
   "source": [
    "#\tCreate a histogram to visualize the distribution of ages in the dataset.\n",
    "main_data['Age'].plot(kind='hist',title='Distribution of ages')\n",
    "plt.xlabel('Age')\n",
    "plt.show()"
   ]
  },
  {
   "cell_type": "markdown",
   "id": "82b80dcc-b4b4-45ec-9ec0-f10ecf95a011",
   "metadata": {},
   "source": [
    "# Bar chart of diagnosis counts\n"
   ]
  },
  {
   "cell_type": "code",
   "execution_count": 9,
   "id": "44b686de-d527-4727-a041-70acd56f9d68",
   "metadata": {},
   "outputs": [
    {
     "data": {
      "image/png": "[encoded data removed]",
      "text/plain": [
       "<Figure size 640x480 with 1 Axes>"
      ]
     },
     "metadata": {},
     "output_type": "display_data"
    }
   ],
   "source": [
    "# Create a bar chart showing the number of patients in each diagnosis category.\n",
    "no_patient.plot(kind='bar',color='purple', title=' number of patients in each diagnosis category')\n",
    "plt.ylabel('no of patients')\n",
    "plt.show()"
   ]
  },
  {
   "cell_type": "markdown",
   "id": "330d252d-9c28-4866-9543-5efaf8e888f6",
   "metadata": {},
   "source": [
    "# Scatter plot of blood pressure vs weight\n",
    "\t"
   ]
  },
  {
   "cell_type": "code",
   "execution_count": 11,
   "id": "0a46b73a-45ee-4a06-8ff0-3b2edcb5f49a",
   "metadata": {},
   "outputs": [
    {
     "data": {
      "image/png": "[encoded data removed]",
      "text/plain": [
       "<Figure size 640x480 with 1 Axes>"
      ]
     },
     "metadata": {},
     "output_type": "display_data"
    }
   ],
   "source": [
    "# Plot a scatter plot of systolic blood pressure vs weight.\n",
    "plt.scatter(main_data['Systolic_BP'],main_data['Weight (kg)'],color='red')\n",
    "plt.title('Scatter plot of blood pressure vs weight')\n",
    "plt.xlabel('Systolic_BP')\n",
    "plt.ylabel('Weight (kg)')\n",
    "plt.show()"
   ]
  },
  {
   "cell_type": "markdown",
   "id": "9ad0f9d8-ae34-44e8-a560-03503b22841c",
   "metadata": {},
   "source": [
    "# Identify at-risk patients\n",
    "\n"
   ]
  },
  {
   "cell_type": "code",
   "execution_count": 17,
   "id": "36701305-e727-46af-a67e-e7343d5a2f0e",
   "metadata": {},
   "outputs": [
    {
     "name": "stdout",
     "output_type": "stream",
     "text": [
      "   PatientID  Age Gender  Weight (kg)  Height (cm)  Systolic_BP  Diastolic_BP  \\\n",
      "0          1   45      M           85          175          140            90   \n",
      "2          3   52      M           95          178          150            95   \n",
      "4          5   60      M          102          170          160           100   \n",
      "7          8   46      F           62          165          135            88   \n",
      "8          9   58      M           89          172          145            95   \n",
      "\n",
      "  Cholesterol      Diagnosis  \n",
      "0        High   Hypertension  \n",
      "2        High   Hypertension  \n",
      "4        High  Heart Disease  \n",
      "7      Normal   Hypertension  \n",
      "8        High  Heart Disease  \n"
     ]
    }
   ],
   "source": [
    "# List all patients with either high cholesterol or hypertension.\n",
    "at_risk_patients=main_data[(main_data['Cholesterol']=='High') | (main_data['Diagnosis']=='Hypertension')]\n",
    "print(at_risk_patients)\n"
   ]
  },
  {
   "cell_type": "code",
   "execution_count": 41,
   "id": "764bbdbe-4e38-4524-a578-f88fe28a6fd1",
   "metadata": {},
   "outputs": [
    {
     "name": "stdout",
     "output_type": "stream",
     "text": [
      "   PatientID Cholesterol      Diagnosis\n",
      "0          1        High   Hypertension\n",
      "2          3        High   Hypertension\n",
      "4          5        High  Heart Disease\n",
      "7          8      Normal   Hypertension\n",
      "8          9        High  Heart Disease\n"
     ]
    }
   ],
   "source": [
    "#Alternatively\n",
    "df=main_data[['PatientID','Cholesterol','Diagnosis']]\n",
    "df\n",
    "at_risk_patients=df[(df['Cholesterol']=='High') | (df['Diagnosis']=='Hypertension')]\n",
    "print(at_risk_patients)"
   ]
  },
  {
   "cell_type": "markdown",
   "id": "69bc63c0-ebc2-4969-8b6c-ebcf5c70ac19",
   "metadata": {},
   "source": [
    "# Correlation analysis\n",
    "\t"
   ]
  },
  {
   "cell_type": "code",
   "execution_count": 36,
   "id": "93e693d2-1108-4885-a6aa-cc58835563d7",
   "metadata": {},
   "outputs": [
    {
     "name": "stdout",
     "output_type": "stream",
     "text": [
      "The correlation between both is 0.898205142867548\n"
     ]
    }
   ],
   "source": [
    "# Check if there is any correlation between systolic blood pressure and weight.\n",
    "correlation=main_data['Systolic_BP'].corr(main_data['Weight (kg)'])\n",
    "print(f'The correlation between both is {correlation}')"
   ]
  },
  {
   "cell_type": "code",
   "execution_count": null,
   "id": "108a8624-0946-4048-9557-397a8c300efd",
   "metadata": {},
   "outputs": [],
   "source": []
  }
 ],
 "metadata": {
  "kernelspec": {
   "display_name": "Python 3 (ipykernel)",
   "language": "python",
   "name": "python3"
  },
  "language_info": {
   "codemirror_mode": {
    "name": "ipython",
    "version": 3
   },
   "file_extension": ".py",
   "mimetype": "text/x-python",
   "name": "python",
   "nbconvert_exporter": "python",
   "pygments_lexer": "ipython3",
   "version": "3.11.5"
  }
 },
 "nbformat": 4,
 "nbformat_minor": 5
}
